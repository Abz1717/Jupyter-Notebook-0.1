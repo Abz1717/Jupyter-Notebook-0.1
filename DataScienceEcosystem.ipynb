{
 "cells": [
  {
   "cell_type": "markdown",
   "id": "5dc6bd48-134f-4631-97fb-4a2addebd64e",
   "metadata": {},
   "source": [
    "# Data Science Tools and Ecosystem"
   ]
  },
  {
   "cell_type": "markdown",
   "id": "f8634ba2-9235-470e-aa73-f07904455239",
   "metadata": {},
   "source": [
    "In this notebook, Data Science Tools and Ecosystem are summarized.\n"
   ]
  },
  {
   "cell_type": "markdown",
   "id": "1e28123d-548d-4f9f-a19d-284c5fed13c3",
   "metadata": {},
   "source": [
    "Some of the popular languages that Data Scientists use are:\n",
    "\n",
    "1. python\n",
    "2. R\n",
    "3. Scala\n",
    "4. MATLAB"
   ]
  },
  {
   "cell_type": "markdown",
   "id": "3da6b8ce-ec6d-4aeb-866f-d4fcafd412f8",
   "metadata": {},
   "source": [
    "Some of the commonly used libraries used by Data Scientists include:\n",
    "\n",
    "1. NumPy\n",
    "2. pandas\n",
    "3. matplotlib\n",
    "4. Seaborn"
   ]
  },
  {
   "cell_type": "markdown",
   "id": "bbf225c7-9b62-4d3d-8feb-0ac45f13a9a8",
   "metadata": {},
   "source": [
    "| Data Science Tools |\n",
    "|-----------------------|\n",
    "| Jupyter Notebook |\n",
    "|rStudio |\n",
    "| Apache Zepplin |\n",
    "\n",
    "\n"
   ]
  },
  {
   "cell_type": "markdown",
   "id": "5803d562-7f9c-4a1f-aa55-76b2068bb1b8",
   "metadata": {},
   "source": [
    "### Below are a few examples of evaluating arithmetic expressions in Python.\n"
   ]
  },
  {
   "cell_type": "code",
   "execution_count": 14,
   "id": "105948e0-809e-4a2d-8967-163c50895ffd",
   "metadata": {},
   "outputs": [
    {
     "data": {
      "text/plain": [
       "17"
      ]
     },
     "execution_count": 14,
     "metadata": {},
     "output_type": "execute_result"
    }
   ],
   "source": [
    "#This a simple arithmetic expression to mutiply then add integers\n",
    "\n",
    "(3*4)+5\n",
    "\n"
   ]
  },
  {
   "cell_type": "code",
   "execution_count": 27,
   "id": "4dc721b5-39b6-4a88-9608-db31499a4656",
   "metadata": {},
   "outputs": [
    {
     "data": {
      "text/plain": [
       "3.3333333333333335"
      ]
     },
     "execution_count": 27,
     "metadata": {},
     "output_type": "execute_result"
    }
   ],
   "source": [
    "minutes = 200\n",
    "\n",
    "hours = minutes/60 \n",
    "\n",
    "hours "
   ]
  },
  {
   "cell_type": "markdown",
   "id": "b762254e-33cb-4cb3-92e2-1cd7a5dd767d",
   "metadata": {},
   "source": [
    "Objectives:\n",
    "\n",
    "- List popular languages for Data Science\n",
    "- Arithmetic expressions in Python\n",
    "- Popular languages that Data Scientists use\n",
    "- Commonly used libraries used by Data Scientists"
   ]
  },
  {
   "cell_type": "markdown",
   "id": "7cd57517-30eb-4cde-99d4-c16adb9c076e",
   "metadata": {},
   "source": [
    "## Author \n",
    "Abdelsalam"
   ]
  },
  {
   "cell_type": "code",
   "execution_count": null,
   "id": "2bb47faf-58ca-43b4-9cac-f6a320207d67",
   "metadata": {},
   "outputs": [],
   "source": []
  },
  {
   "cell_type": "code",
   "execution_count": null,
   "id": "e812e69a-96cb-4b75-ad40-0a738407de94",
   "metadata": {},
   "outputs": [],
   "source": []
  },
  {
   "cell_type": "code",
   "execution_count": null,
   "id": "b309fddc-b3fe-49b9-b408-af842a8ce09b",
   "metadata": {},
   "outputs": [],
   "source": []
  },
  {
   "cell_type": "code",
   "execution_count": null,
   "id": "56714d95-4bac-4ba8-bc64-6f2bd456fd6c",
   "metadata": {},
   "outputs": [],
   "source": []
  }
 ],
 "metadata": {
  "kernelspec": {
   "display_name": "Python 3 (ipykernel)",
   "language": "python",
   "name": "python3"
  },
  "language_info": {
   "codemirror_mode": {
    "name": "ipython",
    "version": 3
   },
   "file_extension": ".py",
   "mimetype": "text/x-python",
   "name": "python",
   "nbconvert_exporter": "python",
   "pygments_lexer": "ipython3",
   "version": "3.11.7"
  }
 },
 "nbformat": 4,
 "nbformat_minor": 5
}
